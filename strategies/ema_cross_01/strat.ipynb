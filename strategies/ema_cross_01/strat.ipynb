{
 "cells": [
  {
   "cell_type": "markdown",
   "metadata": {},
   "source": [
    "# EMA Cross Strategy v0.1\n",
    "\n",
    "This legacy notebook captures the earliest experiments for building a basic\n",
    "exponential moving average crossover strategy.  It documents exploratory\n",
    "data analysis steps and quick prototypes that later evolved into the more\n",
    "modular code that lives in `strategies/ema_cross_02`."
   ]
  }
 ],
 "metadata": {
  "kernelspec": {
   "display_name": "Python 3",
   "language": "python",
   "name": "python3"
  },
  "language_info": {
   "codemirror_mode": {
    "name": "ipython",
    "version": 3
   },
   "file_extension": ".py",
   "mimetype": "text/x-python",
   "name": "python",
   "nbconvert_exporter": "python",
   "pygments_lexer": "ipython3",
   "version": "3.11"
  }
 },
 "nbformat": 4,
 "nbformat_minor": 5
}
